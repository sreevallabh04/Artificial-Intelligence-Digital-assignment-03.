{
 "cells": [
  {
   "cell_type": "markdown",
   "metadata": {},
   "source": [
    "# Task 2: Smart Route Planner (Travelling Salesman Problem)\n",
    "\n",
    "This notebook implements and visualizes a solution to the Travelling Salesman Problem (TSP) for a delivery robot using a Greedy (Nearest Neighbor) approach."
   ]
  },
  {
   "cell_type": "markdown",
   "metadata": {},
   "source": [
    "## 1. Setup and Imports\n",
    "\n",
    "Import necessary libraries: `numpy` for numerical operations, `matplotlib` for plotting and animation, and `math` for distance calculations."
   ]
  },
  {
   "cell_type": "code",
   "execution_count": null,
   "metadata": {},
   "outputs": [],
   "source": [
    "import numpy as np\n",
    "import matplotlib.pyplot as plt\n",
    "import matplotlib.animation as animation\n",
    "import math\n",
    "import random\n",
    "from IPython.display import HTML, display"
   ]
  },
  {
   "cell_type": "markdown",
   "metadata": {},
   "source": [
    "## 2. Define Locations and Distance Function\n",
    "\n",
    "Define the coordinates for the warehouse (start/end point) and the delivery locations. Also, define a function to calculate the Euclidean distance between two points."
   ]
  },
  {
   "cell_type": "code",
   "execution_count": null,
   "metadata": {},
   "outputs": [],
   "source": [
    "# Warehouse (index 0) and delivery locations\n",
    "locations = {\n",
    "    'Warehouse': (2, 2),\n",
    "    'A': (1, 5),\n",
    "    'B': (4, 8),\n",
    "    'C': (7, 6),\n",
    "    'D': (9, 3),\n",
    "    'E': (5, 1)\n",
    "}\n",
    "\n",
    "location_names = list(locations.keys())\n",
    "coords = np.array(list(locations.values()))\n",
    "num_locations = len(locations)\n",
    "warehouse_index = location_names.index('Warehouse') # Should be 0\n",
    "\n",
    "def calculate_distance(point1, point2):\n",
    "    \"\"\"Calculates Euclidean distance between two points.\"\"\"\n",
    "    return math.sqrt((point1[0] - point2[0])**2 + (point1[1] - point2[1])**2)"
   ]
  },
  {
   "cell_type": "markdown",
   "metadata": {},
   "source": [
    "## 3. TSP Algorithm: Greedy (Nearest Neighbor)\n",
    "\n",
    "Implement the Nearest Neighbor algorithm. Starting from the warehouse, the robot repeatedly visits the nearest unvisited location until all locations are visited, then returns to the warehouse."
   ]
  },
  {
   "cell_type": "code",
   "execution_count": null,
   "metadata": {},
   "outputs": [],
   "source": [
    "def nearest_neighbor_tsp(coords, start_node_index=0):\n",
    "    \"\"\"Solves TSP using the Nearest Neighbor heuristic.\"\"\"\n",
    "    num_nodes = len(coords)\n",
    "    unvisited = list(range(num_nodes))\n",
    "    current_node = start_node_index\n",
    "    route = [current_node]\n",
    "    unvisited.remove(current_node)\n",
    "    total_distance = 0\n",
    "\n",
    "    while unvisited:\n",
    "        nearest_node = -1\n",
    "        min_dist = float('inf')\n",
    "\n",
    "        for node in unvisited:\n",
    "            dist = calculate_distance(coords[current_node], coords[node])\n",
    "            if dist < min_dist:\n",
    "                min_dist = dist\n",
    "                nearest_node = node\n",
    "        \n",
    "        total_distance += min_dist\n",
    "        current_node = nearest_node\n",
    "        route.append(current_node)\n",
    "        unvisited.remove(current_node)\n",
    "\n",
    "    # Return to start\n",
    "    total_distance += calculate_distance(coords[current_node], coords[start_node_index])\n",
    "    route.append(start_node_index)\n",
    "\n",
    "    return route, total_distance"
   ]
  },
  {
   "cell_type": "markdown",
   "metadata": {},
   "source": [
    "## 4. Visualization Functions\n",
    "\n",
    "Create functions to plot the locations and the final route, and to animate the robot's movement along the route."
   ]
  },
  {
   "cell_type": "code",
   "execution_count": null,
   "metadata": {},
   "outputs": [],
   "source": [
    "def plot_route(coords, route, location_names, total_distance, title='TSP Route'):\n",
    "    \"\"\"Plots the locations and the calculated TSP route.\"\"\"\n",
    "    fig, ax = plt.subplots(figsize=(8, 8))\n",
    "    \n",
    "    # Plot route segments\n",
    "    route_coords = coords[route]\n",
    "    ax.plot(route_coords[:, 0], route_coords[:, 1], 'o-', label='Robot Path', markersize=8, color='blue', zorder=1)\n",
    "\n",
    "    # Plot locations\n",
    "    ax.scatter(coords[:, 0], coords[:, 1], s=100, color='red', zorder=2) # All locations\n",
    "    ax.scatter(coords[warehouse_index, 0], coords[warehouse_index, 1], s=150, color='green', marker='s', label='Warehouse', zorder=3) # Warehouse\n",
    "\n",
    "    # Annotate locations\n",
    "    for i, name in enumerate(location_names):\n",
    "        ax.text(coords[i, 0] + 0.1, coords[i, 1] + 0.1, name, fontsize=12)\n",
    "\n",
    "    ax.set_xlabel(\"X Coordinate\")\n",
    "    ax.set_ylabel(\"Y Coordinate\")\n",
    "    ax.set_title(f'{title}\\nTotal Distance: {total_distance:.2f}')\n",
    "    ax.legend()\n",
    "    ax.grid(True)\n",
    "    ax.axis('equal') # Ensure aspect ratio is equal\n",
    "    plt.show()\n",
    "\n",
    "def animate_route(coords, route, location_names, total_distance, title='TSP Route Animation'):\n",
    "    \"\"\"Animates the robot moving along the TSP route.\"\"\"\n",
    "    fig, ax = plt.subplots(figsize=(8, 8))\n",
    "    route_coords = coords[route]\n",
    "\n",
    "    # Plot locations static background\n",
    "    ax.scatter(coords[:, 0], coords[:, 1], s=100, color='red', zorder=2)\n",
    "    ax.scatter(coords[warehouse_index, 0], coords[warehouse_index, 1], s=150, color='green', marker='s', label='Warehouse', zorder=3)\n",
    "    for i, name in enumerate(location_names):\n",
    "        ax.text(coords[i, 0] + 0.1, coords[i, 1] + 0.1, name, fontsize=12)\n",
    "\n",
    "    ax.set_xlabel(\"X Coordinate\")\n",
    "    ax.set_ylabel(\"Y Coordinate\")\n",
    "    ax.set_title(f'{title}\\nTotal Distance: {total_distance:.2f}')\n",
    "    ax.legend()\n",
    "    ax.grid(True)\n",
    "    ax.axis('equal')\n",
    "\n",
    "    # Line object to update for the path\n",
    "    line, = ax.plot([], [], 'o-', color='blue', markersize=8, label='Robot Path')\n",
    "    # Robot position marker\n",
    "    robot, = ax.plot([], [], 'X', color='purple', markersize=12, label='Robot')\n",
    "\n",
    "    # Animation update function\n",
    "    def update(frame):\n",
    "        # Draw path segments up to the current frame\n",
    "        current_path_coords = route_coords[:frame+1]\n",
    "        line.set_data(current_path_coords[:, 0], current_path_coords[:, 1])\n",
    "        \n",
    "        # Update robot position\n",
    "        if frame < len(route_coords):\n",
    "             robot.set_data(route_coords[frame, 0], route_coords[frame, 1])\n",
    "        else: # Keep robot at the end position (warehouse)\n",
    "             robot.set_data(route_coords[-1, 0], route_coords[-1, 1])\n",
    "             \n",
    "        # Update legend dynamically (optional, can be complex)\n",
    "        # handles, labels = ax.get_legend_handles_labels()\n",
    "        # ax.legend(handles=handles, labels=labels)\n",
    "        \n",
    "        return line, robot\n",
    "\n",
    "    # Create animation\n",
    "    # Frames go from 0 to num_locations (inclusive) to show all segments + final robot position\n",
    "    ani = animation.FuncAnimation(fig, update, frames=len(route), interval=500, blit=True, repeat=False)\n",
    "    plt.close(fig) # Prevent duplicate static plot\n",
    "    return ani"
   ]
  },
  {
   "cell_type": "markdown",
   "metadata": {},
   "source": [
    "## 5. Run TSP Solver and Visualize\n",
    "\n",
    "Execute the Nearest Neighbor algorithm and display the results."
   ]
  },
  {
   "cell_type": "code",
   "execution_count": null,
   "metadata": {},
   "outputs": [],
   "source": [
    "print(\"Running Nearest Neighbor TSP...\")\n",
    "nn_route, nn_distance = nearest_neighbor_tsp(coords, warehouse_index)\n",
    "print(f\"Route found: {' -> '.join([location_names[i] for i in nn_route])}\")\n",
    "print(f\"Total distance: {nn_distance:.2f}\")\n",
    "\n",
    "# Static Plot\n",
    "plot_route(coords, nn_route, location_names, nn_distance, title='Nearest Neighbor TSP Route')\n",
    "\n",
    "# Animation\n",
    "print(\"Generating animation...\")\n",
    "ani_nn = animate_route(coords, nn_route, location_names, nn_distance, title='Nearest Neighbor TSP Animation')\n",
    "display(HTML(ani_nn.to_jshtml()))\n",
    "# To save animation (optional):\n",
    "# ani_nn.save('tsp_nn_animation.gif', writer='pillow', fps=2)\n",
    "# print(\"Animation saved as tsp_nn_animation.gif\")"
   ]
  },
  {
   "cell_type": "markdown",
   "metadata": {},
   "source": [
    "## 6. Explanation\n",
    "\n",
    "### Approach Used\n",
    "\n",
    "1.  **Problem Definition**: The task is modeled as the Travelling Salesman Problem (TSP), where the goal is to find the shortest possible route that visits each delivery location exactly once and returns to the starting warehouse.\n",
    "2.  **Algorithm**: The **Nearest Neighbor (NN)** algorithm, a greedy heuristic, was implemented.\n",
    "    *   It starts at the designated warehouse.\n",
    "    *   At each step, it travels to the closest unvisited location.\n",
    "    *   This process repeats until all locations have been visited.\n",
    "    *   Finally, it returns to the starting warehouse.\n",
    "3.  **Distance Calculation**: Euclidean distance is used to measure the distance between locations based on their 2D coordinates.\n",
    "4.  **Visualization**: \n",
    "    *   A static plot shows all locations, the warehouse, and the final calculated route with the total distance.\n",
    "    *   An animation visualizes the robot moving sequentially through the locations according to the NN route.\n",
    "\n",
    "### Pros and Cons of Nearest Neighbor\n",
    "\n",
    "*   **Pros**:\n",
    "    *   Simple and intuitive to understand and implement.\n",
    "    *   Computationally fast, especially compared to exact methods like brute force or dynamic programming, making it suitable for quick approximations.\n",
    "*   **Cons**:\n",
    "    *   **Not Optimal**: It's a greedy heuristic and does not guarantee finding the absolute shortest route. The choice made at each step (going to the *nearest* neighbor) might lead to poor choices later in the tour.\n",
    "    *   **Sensitivity to Starting Point**: The resulting route can vary depending on the starting location.\n",
    "\n",
    "### Assumptions Made\n",
    "\n",
    "1.  **Euclidean Distance**: Travel cost is directly proportional to the straight-line (Euclidean) distance between locations.\n",
    "2.  **Symmetric Costs**: The cost of travel between two points (A to B) is the same as the cost in the reverse direction (B to A).\n",
    "3.  **Complete Graph**: It's possible to travel directly between any two locations.\n",
    "4.  **Static Locations**: The positions of the warehouse and delivery points do not change.\n",
    "5.  **Robot Capabilities**: The robot can instantly travel between points (travel time is not explicitly modeled beyond distance)."
   ]
  }
 ],
 "metadata": {
  "kernelspec": {
   "display_name": "Python 3",
   "language": "python",
   "name": "python3"
  },
  "language_info": {
   "codemirror_mode": {
    "name": "ipython",
    "version": 3
   },
   "file_extension": ".py",
   "mimetype": "text/x-python",
   "name": "python",
   "nbconvert_exporter": "python",
   "pygments_lexer": "ipython3",
   "version": "3.9.7"
  }
 },
 "nbformat": 4,
 "nbformat_minor": 2
}
