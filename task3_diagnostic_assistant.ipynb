{
 "cells": [
  {
   "cell_type": "markdown",
   "metadata": {},
   "source": [
    "# Task 3: AI-Based Diagnostic Assistant (Inference Engine)\n",
    "\n",
    "This notebook implements a simple rule-based diagnostic assistant using Forward and Backward Chaining inference methods."
   ]
  },
  {
   "cell_type": "markdown",
   "metadata": {},
   "source": [
    "## 1. Setup\n",
    "\n",
    "No external libraries are strictly required for the core logic, but we'll define helper functions for clarity."
   ]
  },
  {
   "cell_type": "code",
   "execution_count": null,
   "metadata": {},
   "outputs": [],
   "source": [
    "# No specific imports needed for this basic implementation\n",
    "import copy # To avoid modifying original facts/rules"
   ]
  },
  {
   "cell_type": "markdown",
   "metadata": {},
   "source": [
    "## 2. Knowledge Base and Rules\n",
    "\n",
    "Define the knowledge base as a list of rules. Each rule is a tuple: `(premises, conclusion)`.\n",
    "- `premises`: A set of symptoms (strings) that must be true.\n",
    "- `conclusion`: The disease (string) inferred if all premises are true."
   ]
  },
  {
   "cell_type": "code",
   "execution_count": null,
   "metadata": {},
   "outputs": [],
   "source": [
    "knowledge_base = [\n",
    "    ({'fever', 'cough', 'sore throat'}, 'Flu'),\n",
    "    ({'fever', 'rash', 'headache'}, 'Measles'),\n",
    "    ({'fever', 'headache', 'stiff neck'}, 'Meningitis'),\n",
    "    ({'cough', 'shortness of breath'}, 'Pneumonia'),\n",
    "    ({'sore throat', 'runny nose'}, 'Common Cold'),\n",
    "    ({'fatigue', 'fever'}, 'Possible Infection'), # Intermediate conclusion\n",
    "    ({'Possible Infection', 'rash'}, 'Viral Infection') # Rule using intermediate conclusion\n",
    "]"
   ]
  },
  {
   "cell_type": "markdown",
   "metadata": {},
   "source": [
    "## 3. Forward Chaining Implementation\n",
    "\n",
    "Forward chaining starts with known facts (symptoms) and applies rules to infer new facts (diseases or intermediate conclusions) until no more rules can be applied."
   ]
  },
  {
   "cell_type": "code",
   "execution_count": null,
   "metadata": {},
   "outputs": [],
   "source": [
    "def forward_chaining(rules, initial_facts):\n",
    "    \"\"\"Performs forward chaining inference.\"\"\"\n",
    "    facts = copy.deepcopy(initial_facts)\n",
    "    inferred_facts_log = [] # Log for visualization\n",
    "    rule_applied_in_iteration = True\n",
    "\n",
    "    print(\"--- Forward Chaining --- \")\n",
    "    print(f\"Initial Facts: {facts}\")\n",
    "    iteration = 1\n",
    "\n",
    "    while rule_applied_in_iteration:\n",
    "        rule_applied_in_iteration = False\n",
    "        print(f\"\\nIteration {iteration}:\")\n",
    "        newly_inferred_facts_this_iteration = set()\n",
    "\n",
    "        for premises, conclusion in rules:\n",
    "            # Check if all premises are in the current set of facts\n",
    "            # and if the conclusion is not already a fact\n",
    "            if premises.issubset(facts) and conclusion not in facts:\n",
    "                facts.add(conclusion)\n",
    "                newly_inferred_facts_this_iteration.add(conclusion)\n",
    "                log_entry = f\"Applied Rule: {premises} => {conclusion}. Inferred: {conclusion}\"\n",
    "                inferred_facts_log.append(log_entry)\n",
    "                print(log_entry)\n",
    "                rule_applied_in_iteration = True\n",
    "        \n",
    "        if not newly_inferred_facts_this_iteration:\n",
    "             print(\"No new facts inferred in this iteration.\")\n",
    "             \n",
    "        iteration += 1\n",
    "\n",
    "    print(f\"\\nFinal Facts: {facts}\")\n",
    "    return facts, inferred_facts_log"
   ]
  },
  {
   "cell_type": "markdown",
   "metadata": {},
   "source": [
    "## 4. Backward Chaining Implementation\n",
    "\n",
    "Backward chaining starts with a potential goal (hypothesis, e.g., a specific disease) and works backward, checking if the rules supporting that goal can be satisfied by the known facts."
   ]
  },
  {
   "cell_type": "code",
   "execution_count": null,
   "metadata": {},
   "outputs": [],
   "source": [
    "def backward_chaining(rules, facts, goal, indent=''):\n",
    "    \"\"\"Performs backward chaining inference recursively.\"\"\"\n",
    "    print(f\"{indent}Goal: Can we prove '{goal}'? Current Facts: {facts}\")\n",
    "\n",
    "    # Base Case 1: Goal is already a known fact\n",
    "    if goal in facts:\n",
    "        print(f\"{indent}--> Success: '{goal}' is already in known facts.\")\n",
    "        return True, [f\"{indent}Fact: {goal}\"]\n",
    "\n",
    "    # Base Case 2: Goal cannot be proven by any rule\n",
    "    rules_supporting_goal = [(p, c) for p, c in rules if c == goal]\n",
    "    if not rules_supporting_goal:\n",
    "        print(f\"{indent}--> Failure: No rule concludes '{goal}'.\")\n",
    "        return False, [f\"{indent}Cannot prove: {goal}\"]\n",
    "\n",
    "    # Recursive Step: Try to prove the goal using rules\n",
    "    print(f\"{indent}Trying rules that conclude '{goal}':\")\n",
    "    inference_chain = []\n",
    "    for premises, conclusion in rules_supporting_goal:\n",
    "        print(f\"{indent}  Rule: {premises} => {conclusion}\")\n",
    "        all_premises_proven = True\n",
    "        rule_chain = [f\"{indent}  Trying Rule: {premises} => {conclusion}\"]\n",
    "\n",
    "        for premise in premises:\n",
    "            print(f\"{indent}    Subgoal: Can we prove premise '{premise}'?\")\n",
    "            proven, premise_chain = backward_chaining(rules, facts, premise, indent + '      ')\n",
    "            rule_chain.extend(premise_chain)\n",
    "            if not proven:\n",
    "                print(f\"{indent}    --> Failure: Cannot prove premise '{premise}' for this rule.\")\n",
    "                all_premises_proven = False\n",
    "                rule_chain.append(f\"{indent}  Rule Failed: Premise {premise} not proven.\")\n",
    "                break # Stop checking premises for this rule\n",
    "            else:\n",
    "                 print(f\"{indent}    --> Success: Premise '{premise}' proven.\")\n",
    "                 rule_chain.append(f\"{indent}  Premise {premise} proven.\")\n",
    "\n",
    "        if all_premises_proven:\n",
    "            print(f\"{indent}--> Success: All premises for rule {premises} => {conclusion} proven. Therefore, '{goal}' is proven.\")\n",
    "            inference_chain.extend(rule_chain)\n",
    "            inference_chain.append(f\"{indent}Success: {goal} proven via rule {premises} => {conclusion}\")\n",
    "            return True, inference_chain # Goal proven by this rule\n",
    "        else:\n",
    "             inference_chain.extend(rule_chain) # Log the attempt even if it failed\n",
    "\n",
    "    # If no rule could prove the goal\n",
    "    print(f\"{indent}--> Failure: Could not prove '{goal}' with any applicable rule.\")\n",
    "    inference_chain.append(f\"{indent}Failure: {goal} could not be proven by any rule.\")\n",
    "    return False, inference_chain\n",
    "\n",
    "def run_backward_chaining(rules, initial_facts, potential_diagnoses):\n",
    "    \"\"\"Runs backward chaining for a list of potential diagnoses.\"\"\"\n",
    "    print(\"\\n--- Backward Chaining ---\")\n",
    "    print(f\"Initial Facts: {initial_facts}\")\n",
    "    results = {}\n",
    "    all_chains = {}\n",
    "    for diagnosis in potential_diagnoses:\n",
    "        print(f\"\\nAttempting to prove: {diagnosis}\")\n",
    "        is_proven, chain = backward_chaining(rules, initial_facts, diagnosis)\n",
    "        results[diagnosis] = is_proven\n",
    "        all_chains[diagnosis] = chain\n",
    "        print(f\"Result for {diagnosis}: {'Proven' if is_proven else 'Not Proven'}\")\n",
    "    return results, all_chains"
   ]
  },
  {
   "cell_type": "markdown",
   "metadata": {},
   "source": [
    "## 5. Run Diagnostic Assistant\n",
    "\n",
    "Define the patient's symptoms (initial facts) and run both inference methods."
   ]
  },
  {
   "cell_type": "code",
   "execution_count": null,
   "metadata": {},
   "outputs": [],
   "source": [
    "# Example Patient Symptoms\n",
    "patient_symptoms = {'fever', 'cough', 'sore throat', 'fatigue'}\n",
    "\n",
    "# Run Forward Chaining\n",
    "fc_final_facts, fc_log = forward_chaining(knowledge_base, patient_symptoms)\n",
    "\n",
    "# Define potential diagnoses to check with Backward Chaining\n",
    "# (Usually the conclusions of the rules)\n",
    "potential_diagnoses = {conclusion for _, conclusion in knowledge_base}\n",
    "\n",
    "# Run Backward Chaining\n",
    "bc_results, bc_chains = run_backward_chaining(knowledge_base, patient_symptoms, potential_diagnoses)\n",
    "\n",
    "# Print Backward Chaining Summary\n",
    "print(\"\\n--- Backward Chaining Summary ---\")\n",
    "for diagnosis, proven in bc_results.items():\n",
    "    print(f\"{diagnosis}: {'Proven' if proven else 'Not Proven'}\")\n",
    "    # Optionally print the detailed chain for proven diagnoses:\n",
    "    # if proven:\n",
    "    #     print(\"  Inference Chain:\")\n",
    "    #     for step in bc_chains[diagnosis]:\n",
    "    #         print(f\"    {step}\")"
   ]
  },
  {
   "cell_type": "markdown",
   "metadata": {},
   "source": [
    "## 6. Explanation\n",
    "\n",
    "### Approach Used\n",
    "\n",
    "1.  **Knowledge Representation**: A simple rule-based system was used. Rules connect sets of `premises` (symptoms or intermediate conclusions) to a `conclusion` (disease or another intermediate conclusion).\n",
    "2.  **Inference Engines**:\n",
    "    *   **Forward Chaining (Data-Driven)**: \n",
    "        - Starts with the known `patient_symptoms` (facts).\n",
    "        - Iteratively applies rules from the `knowledge_base` whose premises are met by the current set of facts.\n",
    "        - Adds the conclusions of fired rules to the set of facts.\n",
    "        - Continues until no new facts can be derived.\n",
    "        - The final set of facts contains all possible inferences, including potential diagnoses.\n",
    "    *   **Backward Chaining (Goal-Driven)**:\n",
    "        - Starts with a specific `goal` (a potential diagnosis).\n",
    "        - Looks for rules that conclude this goal.\n",
    "        - Recursively tries to prove the premises of those rules, treating them as subgoals.\n",
    "        - If a subgoal matches a known fact, it's considered proven.\n",
    "        - If all premises of a rule are proven, the original goal is proven.\n",
    "        - This process is repeated for each potential diagnosis.\n",
    "3.  **Output**: \n",
    "    *   Forward chaining outputs the final set of all inferred facts.\n",
    "    *   Backward chaining outputs whether each specific potential diagnosis could be proven based on the initial facts and provides a trace (inference chain) of how it was proven (or why it failed).\n",
    "\n",
    "### Comparison of Reasoning Styles\n",
    "\n",
    "**Forward Chaining:**\n",
    "*   **Pros**: Finds all possible conclusions derivable from the initial facts. Good when the goal isn't known beforehand or when many conclusions might follow from the data.\n",
    "*   **Cons**: Can be inefficient if only one specific conclusion is needed, as it might derive many irrelevant facts. Can be less intuitive for tracing how a specific conclusion was reached if the chain is long.\n",
    "\n",
    "**Backward Chaining:**\n",
    "*   **Pros**: More focused, as it only explores rules relevant to the specific goal(s). Generally more efficient if the number of possible goals is smaller than the number of initial facts. The recursive nature often provides a clearer explanation path for a specific conclusion.\n",
    "*   **Cons**: Might perform redundant computations if subgoals are revisited multiple times (can be optimized with memoization). Less suitable if the goal is unknown and you want to discover all possibilities.\n",
    "\n",
    "### Assumptions Made\n",
    "\n",
    "1.  **Certainty**: The rules and facts are assumed to be 100% certain (no probabilities or fuzzy logic involved).\n",
    "2.  **Completeness**: The knowledge base is assumed to contain all relevant rules for the diagnoses considered.\n",
    "3.  **Correctness**: The rules accurately reflect the relationship between symptoms and diseases.\n",
    "4.  **Monotonic Reasoning**: Adding new facts or rules doesn't invalidate previous conclusions."
   ]
  }
 ],
 "metadata": {
  "kernelspec": {
   "display_name": "Python 3",
   "language": "python",
   "name": "python3"
  },
  "language_info": {
   "codemirror_mode": {
    "name": "ipython",
    "version": 3
   },
   "file_extension": ".py",
   "mimetype": "text/x-python",
   "name": "python",
   "nbconvert_exporter": "python",
   "pygments_lexer": "ipython3",
   "version": "3.9.7"
  }
 },
 "nbformat": 4,
 "nbformat_minor": 2
}
